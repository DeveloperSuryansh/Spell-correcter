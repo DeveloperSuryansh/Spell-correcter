{
  "metadata": {
    "kernelspec": {
      "language": "python",
      "display_name": "Python 3",
      "name": "python3"
    },
    "language_info": {
      "name": "python",
      "version": "3.10.12",
      "mimetype": "text/x-python",
      "codemirror_mode": {
        "name": "ipython",
        "version": 3
      },
      "pygments_lexer": "ipython3",
      "nbconvert_exporter": "python",
      "file_extension": ".py"
    },
    "kaggle": {
      "accelerator": "none",
      "dataSources": [
        {
          "sourceId": 2365,
          "sourceType": "datasetVersion",
          "datasetId": 1310
        },
        {
          "sourceId": 1102281,
          "sourceType": "datasetVersion",
          "datasetId": 616848
        }
      ],
      "dockerImageVersionId": 30615,
      "isInternetEnabled": true,
      "language": "python",
      "sourceType": "notebook",
      "isGpuEnabled": false
    },
    "colab": {
      "provenance": []
    }
  },
  "nbformat_minor": 0,
  "nbformat": 4,
  "cells": [
    {
      "source": [
        "\n",
        "# IMPORTANT: RUN THIS CELL IN ORDER TO IMPORT YOUR KAGGLE DATA SOURCES\n",
        "# TO THE CORRECT LOCATION (/kaggle/input) IN YOUR NOTEBOOK,\n",
        "# THEN FEEL FREE TO DELETE THIS CELL.\n",
        "# NOTE: THIS NOTEBOOK ENVIRONMENT DIFFERS FROM KAGGLE'S PYTHON\n",
        "# ENVIRONMENT SO THERE MAY BE MISSING LIBRARIES USED BY YOUR\n",
        "# NOTEBOOK.\n",
        "\n",
        "import os\n",
        "import sys\n",
        "from tempfile import NamedTemporaryFile\n",
        "from urllib.request import urlopen\n",
        "from urllib.parse import unquote, urlparse\n",
        "from urllib.error import HTTPError\n",
        "from zipfile import ZipFile\n",
        "import tarfile\n",
        "import shutil\n",
        "\n",
        "CHUNK_SIZE = 40960\n",
        "DATA_SOURCE_MAPPING = 'spelling:https%3A%2F%2Fstorage.googleapis.com%2Fkaggle-data-sets%2F1310%2F2365%2Fbundle%2Farchive.zip%3FX-Goog-Algorithm%3DGOOG4-RSA-SHA256%26X-Goog-Credential%3Dgcp-kaggle-com%2540kaggle-161607.iam.gserviceaccount.com%252F20240610%252Fauto%252Fstorage%252Fgoog4_request%26X-Goog-Date%3D20240610T110022Z%26X-Goog-Expires%3D259200%26X-Goog-SignedHeaders%3Dhost%26X-Goog-Signature%3D1de998989d533d1d36835dbdb904b694c6aa6133629cf4061b6d8ea5da0804336c6555835e0bea9ae4e07e3f6e2cd2c55620cab8713c7ef6d46e7d8a5defcdd4bdaa6e54bd214ac5868f40f1f1bab34428bc78e9ea7fbb3b77f80da2fb01ef3e56a1017fd8e92ec1afae3598a23ceb43e569519d1b9372585fceebe909ddfad3172656f58f4c338152c5d3455917cdfebaee4426b7cef709f05861358cdad9a601e43cee8e52b76acbedde4b67a807b54c5579a18972d9f8e5afc30b5847baf8e7c164ee06dbef6f32139c27fbb97dafcabe5f129e0ac1871be9224a8830eb449cc7146a334cfa040aa648fffb461dc896d16143a243d0ebfdd5e4f280beab62,a2data1:https%3A%2F%2Fstorage.googleapis.com%2Fkaggle-data-sets%2F616848%2F1102281%2Fbundle%2Farchive.zip%3FX-Goog-Algorithm%3DGOOG4-RSA-SHA256%26X-Goog-Credential%3Dgcp-kaggle-com%2540kaggle-161607.iam.gserviceaccount.com%252F20240610%252Fauto%252Fstorage%252Fgoog4_request%26X-Goog-Date%3D20240610T110022Z%26X-Goog-Expires%3D259200%26X-Goog-SignedHeaders%3Dhost%26X-Goog-Signature%3D7ccf2c4c1adf950e2c22db1715b8fc7f0ba0d6fb8fae7f4399645fcac0a631053ceff42ab2899fd4c1cf1bd21520347786e02f40e21f0c97d2aaa832edac7eaddf3c9c4a029788e6e8ab0265d6c5dfb3a0ebd8641deaa33e153fb4f9b79bb03c64726afe570411f8b47a90feaecdd4acf35333d78461fa27027b80aa79d7a734d5efcadaa6bc608eefc34ed024917da90c4c0534319d30675fafead85e77f98aba61c5d851d603e63513f9aebab1f8da3737d2b746066dc97a5b6aff9189ca57c4dd03c254a40cf6b41eb6728fa6006a222cae437a858ca50fd8b31303ccda2aa67cab54f4dba9394267daa7178560d39ca28dbae5e0d6e47d185593be85d7c0'\n",
        "\n",
        "KAGGLE_INPUT_PATH='/kaggle/input'\n",
        "KAGGLE_WORKING_PATH='/kaggle/working'\n",
        "KAGGLE_SYMLINK='kaggle'\n",
        "\n",
        "!umount /kaggle/input/ 2> /dev/null\n",
        "shutil.rmtree('/kaggle/input', ignore_errors=True)\n",
        "os.makedirs(KAGGLE_INPUT_PATH, 0o777, exist_ok=True)\n",
        "os.makedirs(KAGGLE_WORKING_PATH, 0o777, exist_ok=True)\n",
        "\n",
        "try:\n",
        "  os.symlink(KAGGLE_INPUT_PATH, os.path.join(\"..\", 'input'), target_is_directory=True)\n",
        "except FileExistsError:\n",
        "  pass\n",
        "try:\n",
        "  os.symlink(KAGGLE_WORKING_PATH, os.path.join(\"..\", 'working'), target_is_directory=True)\n",
        "except FileExistsError:\n",
        "  pass\n",
        "\n",
        "for data_source_mapping in DATA_SOURCE_MAPPING.split(','):\n",
        "    directory, download_url_encoded = data_source_mapping.split(':')\n",
        "    download_url = unquote(download_url_encoded)\n",
        "    filename = urlparse(download_url).path\n",
        "    destination_path = os.path.join(KAGGLE_INPUT_PATH, directory)\n",
        "    try:\n",
        "        with urlopen(download_url) as fileres, NamedTemporaryFile() as tfile:\n",
        "            total_length = fileres.headers['content-length']\n",
        "            print(f'Downloading {directory}, {total_length} bytes compressed')\n",
        "            dl = 0\n",
        "            data = fileres.read(CHUNK_SIZE)\n",
        "            while len(data) > 0:\n",
        "                dl += len(data)\n",
        "                tfile.write(data)\n",
        "                done = int(50 * dl / int(total_length))\n",
        "                sys.stdout.write(f\"\\r[{'=' * done}{' ' * (50-done)}] {dl} bytes downloaded\")\n",
        "                sys.stdout.flush()\n",
        "                data = fileres.read(CHUNK_SIZE)\n",
        "            if filename.endswith('.zip'):\n",
        "              with ZipFile(tfile) as zfile:\n",
        "                zfile.extractall(destination_path)\n",
        "            else:\n",
        "              with tarfile.open(tfile.name) as tarfile:\n",
        "                tarfile.extractall(destination_path)\n",
        "            print(f'\\nDownloaded and uncompressed: {directory}')\n",
        "    except HTTPError as e:\n",
        "        print(f'Failed to load (likely expired) {download_url} to path {destination_path}')\n",
        "        continue\n",
        "    except OSError as e:\n",
        "        print(f'Failed to load {download_url} to path {destination_path}')\n",
        "        continue\n",
        "\n",
        "print('Data source import complete.')\n"
      ],
      "metadata": {
        "id": "lvcQToq4znmT",
        "colab": {
          "base_uri": "https://localhost:8080/"
        },
        "outputId": "21f5270e-ecc7-42d1-e507-fb74fb1335f6"
      },
      "cell_type": "code",
      "outputs": [
        {
          "output_type": "stream",
          "name": "stdout",
          "text": [
            "Downloading spelling, 2575411 bytes compressed\n",
            "[==================================================] 2575411 bytes downloaded\n",
            "Downloaded and uncompressed: spelling\n",
            "Downloading a2data1, 231943 bytes compressed\n",
            "[==================================================] 231943 bytes downloaded\n",
            "Downloaded and uncompressed: a2data1\n",
            "Data source import complete.\n"
          ]
        }
      ],
      "execution_count": 17
    },
    {
      "cell_type": "code",
      "source": [
        "import re\n",
        "from collections import Counter"
      ],
      "metadata": {
        "id": "KApPdS5_0wcg"
      },
      "execution_count": 18,
      "outputs": []
    },
    {
      "cell_type": "code",
      "source": [
        "def words(text): return re.findall(r'\\w+', text.lower())\n",
        "\n",
        "sherlock = Counter(words(open('/kaggle/input/a2data1/sherlock.txt').read()))\n",
        "testset1 = Counter(words(open('/kaggle/input/a2data1/test.txt').read()))\n",
        "aspell = Counter(words(open('/kaggle/input/spelling/aspell.txt').read()))\n",
        "big = Counter(words(open('/kaggle/input/spelling/big.txt').read()))\n",
        "birkbeck = Counter(words(open('/kaggle/input/spelling/birkbeck.txt').read()))\n",
        "testset2 = Counter(words(open('/kaggle/input/spelling/spell-testset1.txt').read()))\n",
        "testset3 = Counter(words(open('/kaggle/input/spelling/spell-testset2.txt').read()))\n",
        "wikipedia = Counter(words(open('/kaggle/input/spelling/wikipedia.txt').read()))\n",
        "WORDS = sherlock  + aspell + big + birkbeck +  wikipedia\n",
        "TEST = testset1 + testset2 + testset3\n"
      ],
      "metadata": {
        "execution": {
          "iopub.status.busy": "2023-12-11T11:30:06.877011Z",
          "iopub.execute_input": "2023-12-11T11:30:06.877482Z",
          "iopub.status.idle": "2023-12-11T11:30:07.910521Z",
          "shell.execute_reply.started": "2023-12-11T11:30:06.877449Z",
          "shell.execute_reply": "2023-12-11T11:30:07.908682Z"
        },
        "trusted": true,
        "id": "IJW3Xwavznmf"
      },
      "execution_count": 19,
      "outputs": []
    },
    {
      "cell_type": "code",
      "source": [
        "def P(word, N=sum(WORDS.values())):\n",
        "    #\"Probability of `word`.\"\n",
        "    return WORDS[word] / N\n"
      ],
      "metadata": {
        "execution": {
          "iopub.status.busy": "2023-12-11T11:30:07.912851Z",
          "iopub.execute_input": "2023-12-11T11:30:07.913211Z",
          "iopub.status.idle": "2023-12-11T11:30:07.919869Z",
          "shell.execute_reply.started": "2023-12-11T11:30:07.913182Z",
          "shell.execute_reply": "2023-12-11T11:30:07.918722Z"
        },
        "trusted": true,
        "id": "erPlx82xznmg"
      },
      "execution_count": 20,
      "outputs": []
    },
    {
      "cell_type": "code",
      "source": [
        "def correction(word):\n",
        "    # Generate possible corrections\n",
        "    candidates_list = candidates(word)\n",
        "\n",
        "    # Calculate probability for each candidate\n",
        "    probabilities = {candidate: P(candidate) for candidate in candidates_list}\n",
        "\n",
        "    # Return the correction with the highest probability\n",
        "    return max(probabilities, key=probabilities.get)\n"
      ],
      "metadata": {
        "execution": {
          "iopub.status.busy": "2023-12-11T11:30:07.921482Z",
          "iopub.execute_input": "2023-12-11T11:30:07.921956Z",
          "iopub.status.idle": "2023-12-11T11:30:07.933814Z",
          "shell.execute_reply.started": "2023-12-11T11:30:07.921915Z",
          "shell.execute_reply": "2023-12-11T11:30:07.932239Z"
        },
        "trusted": true,
        "id": "SXXAQdXHznmh"
      },
      "execution_count": 21,
      "outputs": []
    },
    {
      "cell_type": "code",
      "source": [
        "def candidates(word):\n",
        "    return (known([word]) or known(edits1(word)) or known(edits2(word)) or [word])\n"
      ],
      "metadata": {
        "execution": {
          "iopub.status.busy": "2023-12-11T11:30:07.938276Z",
          "iopub.execute_input": "2023-12-11T11:30:07.938786Z",
          "iopub.status.idle": "2023-12-11T11:30:07.95023Z",
          "shell.execute_reply.started": "2023-12-11T11:30:07.938739Z",
          "shell.execute_reply": "2023-12-11T11:30:07.949084Z"
        },
        "trusted": true,
        "id": "zO5g3WZMznmi"
      },
      "execution_count": 22,
      "outputs": []
    },
    {
      "cell_type": "code",
      "source": [
        "def known(words):\n",
        "    ## \"The subset of `words` that appear in the dictionary of WORDS.\"\n",
        "    return set(w for w in words if w in WORDS)\n"
      ],
      "metadata": {
        "execution": {
          "iopub.status.busy": "2023-12-11T11:30:07.95161Z",
          "iopub.execute_input": "2023-12-11T11:30:07.951959Z",
          "iopub.status.idle": "2023-12-11T11:30:07.963233Z",
          "shell.execute_reply.started": "2023-12-11T11:30:07.95193Z",
          "shell.execute_reply": "2023-12-11T11:30:07.96196Z"
        },
        "trusted": true,
        "id": "RgCgPbxxznmj"
      },
      "execution_count": 23,
      "outputs": []
    },
    {
      "cell_type": "code",
      "source": [
        "def edits1(word):\n",
        "    #\"All edits that are one edit away from `word`.\"\n",
        "    letters    = 'abcdefghijklmnopqrstuvwxyz'\n",
        "    splits     = [(word[:i], word[i:])    for i in range(len(word) + 1)]\n",
        "    deletes    = [L + R[1:]               for L, R in splits if R]\n",
        "    transposes = [L + R[1] + R[0] + R[2:] for L, R in splits if len(R)>1]\n",
        "    replaces   = [L + c + R[1:]           for L, R in splits if R for c in letters]\n",
        "    inserts    = [L + c + R               for L, R in splits for c in letters]\n",
        "    return set(deletes + transposes + replaces + inserts)\n"
      ],
      "metadata": {
        "execution": {
          "iopub.status.busy": "2023-12-11T11:30:07.965779Z",
          "iopub.execute_input": "2023-12-11T11:30:07.966254Z",
          "iopub.status.idle": "2023-12-11T11:30:07.977187Z",
          "shell.execute_reply.started": "2023-12-11T11:30:07.966218Z",
          "shell.execute_reply": "2023-12-11T11:30:07.975783Z"
        },
        "trusted": true,
        "id": "PHUQ2B6Xznmk"
      },
      "execution_count": 24,
      "outputs": []
    },
    {
      "cell_type": "code",
      "source": [
        "def edits2(word):\n",
        "    #\"All edits that are two edits away from `word`.\"\n",
        "    return (e2 for e1 in edits1(word) for e2 in edits1(e1))"
      ],
      "metadata": {
        "execution": {
          "iopub.status.busy": "2023-12-11T11:30:07.979093Z",
          "iopub.execute_input": "2023-12-11T11:30:07.979691Z",
          "iopub.status.idle": "2023-12-11T11:30:07.991823Z",
          "shell.execute_reply.started": "2023-12-11T11:30:07.979648Z",
          "shell.execute_reply": "2023-12-11T11:30:07.989772Z"
        },
        "trusted": true,
        "id": "QKfwfRjIznml"
      },
      "execution_count": 25,
      "outputs": []
    },
    {
      "cell_type": "code",
      "source": [
        "print(correction('corrrectud'))"
      ],
      "metadata": {
        "execution": {
          "iopub.status.busy": "2023-12-11T11:30:07.994242Z",
          "iopub.execute_input": "2023-12-11T11:30:07.994612Z",
          "iopub.status.idle": "2023-12-11T11:30:08.261482Z",
          "shell.execute_reply.started": "2023-12-11T11:30:07.994583Z",
          "shell.execute_reply": "2023-12-11T11:30:08.260358Z"
        },
        "trusted": true,
        "id": "H-_rjy2Qznmm",
        "colab": {
          "base_uri": "https://localhost:8080/"
        },
        "outputId": "23edbfbb-82f2-408b-cc9e-682a201bfa85"
      },
      "execution_count": 26,
      "outputs": [
        {
          "output_type": "stream",
          "name": "stdout",
          "text": [
            "corrected\n"
          ]
        }
      ]
    },
    {
      "cell_type": "code",
      "source": [
        "def run_tests():\n",
        "    # Test correction function\n",
        "    test_correction('korrectud', 'corrected')"
      ],
      "metadata": {
        "execution": {
          "iopub.status.busy": "2023-12-11T11:30:08.262863Z",
          "iopub.execute_input": "2023-12-11T11:30:08.263239Z",
          "iopub.status.idle": "2023-12-11T11:30:08.270388Z",
          "shell.execute_reply.started": "2023-12-11T11:30:08.263198Z",
          "shell.execute_reply": "2023-12-11T11:30:08.268695Z"
        },
        "trusted": true,
        "id": "pBRzUADTznmm"
      },
      "execution_count": 27,
      "outputs": []
    },
    {
      "cell_type": "code",
      "source": [
        "def test_correction(input_word, expected_correction):\n",
        "    result = correction(input_word)\n",
        "    assert result == expected_correction, f\"Expected: {expected_correction}, Got: {result}\"\n",
        "    print(f\"Test Passed for '{input_word}': {result}\")\n"
      ],
      "metadata": {
        "execution": {
          "iopub.status.busy": "2023-12-11T11:30:08.274817Z",
          "iopub.execute_input": "2023-12-11T11:30:08.275386Z",
          "iopub.status.idle": "2023-12-11T11:30:08.289323Z",
          "shell.execute_reply.started": "2023-12-11T11:30:08.275337Z",
          "shell.execute_reply": "2023-12-11T11:30:08.287893Z"
        },
        "trusted": true,
        "id": "kbEdbjJ5znmn"
      },
      "execution_count": 28,
      "outputs": []
    },
    {
      "cell_type": "code",
      "source": [
        "run_tests()"
      ],
      "metadata": {
        "execution": {
          "iopub.status.busy": "2023-12-11T11:30:08.290974Z",
          "iopub.execute_input": "2023-12-11T11:30:08.292106Z",
          "iopub.status.idle": "2023-12-11T11:30:08.493456Z",
          "shell.execute_reply.started": "2023-12-11T11:30:08.292057Z",
          "shell.execute_reply": "2023-12-11T11:30:08.492184Z"
        },
        "trusted": true,
        "id": "REVzoDszznmn",
        "colab": {
          "base_uri": "https://localhost:8080/"
        },
        "outputId": "97e7953c-bab8-4a7b-f005-ecec6362ade0"
      },
      "execution_count": 29,
      "outputs": [
        {
          "output_type": "stream",
          "name": "stdout",
          "text": [
            "Test Passed for 'korrectud': corrected\n"
          ]
        }
      ]
    },
    {
      "cell_type": "code",
      "source": [
        "corrected_text=[]\n",
        "for input_word in TEST:\n",
        "        corrected_word = correction(input_word)\n",
        "        corrected_text.append(corrected_word)\n",
        "\n",
        "with open(\"corrected_test\", \"w\") as file:\n",
        "    # Write each element of the list to the file\n",
        "    for input_word in TEST:\n",
        "        file.write(str(correction(input_word)) + \" \")\n"
      ],
      "metadata": {
        "execution": {
          "iopub.status.busy": "2023-12-11T11:30:08.494762Z",
          "iopub.execute_input": "2023-12-11T11:30:08.495115Z",
          "iopub.status.idle": "2023-12-11T11:30:08.994279Z",
          "shell.execute_reply.started": "2023-12-11T11:30:08.495083Z",
          "shell.execute_reply": "2023-12-11T11:30:08.993027Z"
        },
        "trusted": true,
        "id": "JqnjUOFgznmo"
      },
      "execution_count": 34,
      "outputs": []
    },
    {
      "cell_type": "code",
      "source": [
        "while 1:\n",
        "  user = input(\"Enter here any word: \")\n",
        "  print(\"Correct word: \",correction(user))"
      ],
      "metadata": {
        "colab": {
          "base_uri": "https://localhost:8080/"
        },
        "id": "6HGZE3Vi1MxT",
        "outputId": "6b4d27aa-8739-4c1d-f88c-06b0bf79a645"
      },
      "execution_count": null,
      "outputs": [
        {
          "output_type": "stream",
          "name": "stdout",
          "text": [
            "Enter here any word: komputer\n",
            "Correct word:  computer\n",
            "Enter here any word: preceise\n",
            "Correct word:  precise\n",
            "Enter here any word: passonate\n",
            "Correct word:  passionate\n",
            "Enter here any word: goood\n",
            "Correct word:  good\n",
            "Enter here any word: bettar\n",
            "Correct word:  better\n"
          ]
        }
      ]
    },
    {
      "cell_type": "code",
      "source": [],
      "metadata": {
        "id": "mlQQ1w9q1Qrw"
      },
      "execution_count": null,
      "outputs": []
    }
  ]
}